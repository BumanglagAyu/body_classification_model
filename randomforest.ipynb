{
 "cells": [
  {
   "cell_type": "code",
   "execution_count": null,
   "id": "3f60fabe",
   "metadata": {},
   "outputs": [],
   "source": []
  },
  {
   "cell_type": "code",
   "execution_count": null,
   "id": "01388c17",
   "metadata": {},
   "outputs": [],
   "source": [
    "# Encode BodyType labels\n",
    "le = LabelEncoder()\n",
    "df['BodyType_Label'] = le.fit_transform(df['BodyType'])\n",
    "\n",
    "# Define features and target\n",
    "X = df[['Gender', 'Age', 'ShoulderWidth', 'Waist', 'Hips']]\n",
    "y = df['BodyType_Label']\n",
    "\n",
    "# First split: 90% Train+Test, 10% Unseen\n",
    "X_temp, X_unseen, y_temp, y_unseen = train_test_split(X, y, test_size=0.1, random_state=42)\n",
    "\n",
    "# Second split: From 90%, get 70% Train and 20% Test\n",
    "X_train, X_test, y_train, y_test = train_test_split(X_temp, y_temp, test_size=2/9, random_state=42)\n",
    "\n",
    "# Save unseen data\n",
    "unseen_data = X_unseen.copy()\n",
    "unseen_data['BodyType_Label'] = y_unseen\n",
    "unseen_data.to_csv('unseen_data.csv', index=False)\n",
    "\n",
    "# Initialize and train Random Forest\n",
    "rf = RandomForestClassifier(n_estimators=100, random_state=42)\n",
    "rf.fit(X_train, y_train)\n",
    "\n",
    "# Predict on test set\n",
    "y_pred = rf.predict(X_test)\n",
    "\n",
    "# Evaluate the model\n",
    "print(\"Accuracy:\", accuracy_score(y_test, y_pred))\n",
    "print(\"\\\\nClassification Report:\\\\n\", classification_report(y_test, y_pred))\n",
    "print(\"\\\\nConfusion Matrix:\\\\n\", confusion_matrix(y_test, y_pred))\n",
    "\n",
    "# Save the model and label encoder\n",
    "joblib.dump(rf, 'body_type_rf_model.pkl')\n",
    "joblib.dump(le, 'body_type_label_encoder.pkl')"
   ]
  },
  {
   "cell_type": "code",
   "execution_count": null,
   "id": "ce23017c",
   "metadata": {},
   "outputs": [],
   "source": [
    "# Save the notebook\n",
    "final_cleaned_notebook = '/mnt/data/body_type_rf_from_cleaned.ipynb'\n",
    "with open(final_cleaned_notebook, 'w') as f:\n",
    "    nbformat.write(nb, f)\n",
    "\n",
    "final_cleaned_notebook"
   ]
  }
 ],
 "metadata": {
  "language_info": {
   "name": "python"
  }
 },
 "nbformat": 4,
 "nbformat_minor": 5
}
